{
 "cells": [
  {
   "cell_type": "markdown",
   "id": "fcee1ff2-795b-4316-bcd1-1517bccfaba6",
   "metadata": {
    "tags": []
   },
   "source": [
    "# Data Science Tools and Ecosystem"
   ]
  },
  {
   "cell_type": "markdown",
   "id": "28df4399-971a-490c-919e-8a019d9b4e61",
   "metadata": {},
   "source": [
    "### In this notebook, Data Science Tools and Ecosystem are summarized."
   ]
  },
  {
   "cell_type": "markdown",
   "id": "110c6055-8910-49ff-9135-ca159ed29ce0",
   "metadata": {},
   "source": [
    "### Some of the popular languages that Data Scientists use are:"
   ]
  },
  {
   "cell_type": "markdown",
   "id": "f23603e2-8140-431c-9126-e6920a2b3303",
   "metadata": {},
   "source": [
    "1. Python\n",
    "2. R\n",
    "3. SQL"
   ]
  },
  {
   "cell_type": "markdown",
   "id": "c2cc98b2-8901-49f0-b673-4cf25f31a2f6",
   "metadata": {},
   "source": [
    "#### Some of the commonly used libraries used by Data Scientists include:"
   ]
  },
  {
   "cell_type": "markdown",
   "id": "47128b42-e175-4e92-8b40-ce0dfc6abe4d",
   "metadata": {},
   "source": [
    "1. Numpy\n",
    "2. Plotly\n",
    "3. Matplotlib\n",
    "4. Seaborn"
   ]
  },
  {
   "cell_type": "markdown",
   "id": "eb0bd28e-0451-4ed2-b8e3-3d75e29bd776",
   "metadata": {
    "tags": []
   },
   "source": [
    "|Data Science Tools|\n",
    "| -------------------- |\n",
    "| Python |\n",
    "| Anaconda |\n",
    "| Keras |"
   ]
  },
  {
   "cell_type": "markdown",
   "id": "2f2fe42d-db36-479c-b7cd-2a45b731e5ce",
   "metadata": {},
   "source": [
    "### Below are a few examples of evaluating arithmetic expressions in Python"
   ]
  },
  {
   "cell_type": "code",
   "execution_count": 10,
   "id": "0bc12d0d-917c-4164-8090-9b403ed1dd9a",
   "metadata": {
    "tags": []
   },
   "outputs": [
    {
     "data": {
      "text/plain": [
       "110"
      ]
     },
     "execution_count": 10,
     "metadata": {},
     "output_type": "execute_result"
    }
   ],
   "source": [
    "50 + 60"
   ]
  },
  {
   "cell_type": "code",
   "execution_count": 11,
   "id": "8d4f15fb-3303-499b-bd4e-f4c193289a6b",
   "metadata": {
    "tags": []
   },
   "outputs": [
    {
     "data": {
      "text/plain": [
       "17"
      ]
     },
     "execution_count": 11,
     "metadata": {},
     "output_type": "execute_result"
    }
   ],
   "source": [
    "(3*4)+5  #This a simple arithmetic expression to mutiply then add integers"
   ]
  },
  {
   "cell_type": "code",
   "execution_count": 12,
   "id": "aed92aca-0d8b-4888-a7b5-770ab49c1858",
   "metadata": {
    "tags": []
   },
   "outputs": [
    {
     "data": {
      "text/plain": [
       "3.3333333333333335"
      ]
     },
     "execution_count": 12,
     "metadata": {},
     "output_type": "execute_result"
    }
   ],
   "source": [
    "200/60 #In the following example, 200 minutes will be converted to hours by dividing this amount of time by its value in minutes, which is 60"
   ]
  },
  {
   "cell_type": "markdown",
   "id": "c8217293-27cc-4bd3-afd2-c42e0c7427a5",
   "metadata": {},
   "source": [
    "## **Objectives:**"
   ]
  },
  {
   "cell_type": "markdown",
   "id": "8ca47003-8bb8-4d1b-b1c7-b29aaa72daa7",
   "metadata": {
    "tags": []
   },
   "source": [
    "### Main activities carried out in this activity\n"
   ]
  },
  {
   "cell_type": "markdown",
   "id": "5cd9b648-6f7b-4f1b-ada0-cb1cc27f0b2e",
   "metadata": {},
   "source": [
    "1. Create a markdown cell for an introduction\n",
    "2. Create a markdown cell to list data science libraries\n",
    "3. Create a markdown cell with a table of data science tools\n",
    "4. Create a code cell to convert minutes to hours\n"
   ]
  },
  {
   "cell_type": "markdown",
   "id": "e0533e5d-380d-480c-ab98-98bb94723c90",
   "metadata": {
    "tags": []
   },
   "source": [
    "## Author: \n",
    "## Andres Galarza Villamil "
   ]
  },
  {
   "cell_type": "code",
   "execution_count": null,
   "id": "d8aab478-e785-48da-8786-2278e1fc32a1",
   "metadata": {},
   "outputs": [],
   "source": []
  }
 ],
 "metadata": {
  "kernelspec": {
   "display_name": "Python",
   "language": "python",
   "name": "conda-env-python-py"
  },
  "language_info": {
   "codemirror_mode": {
    "name": "ipython",
    "version": 3
   },
   "file_extension": ".py",
   "mimetype": "text/x-python",
   "name": "python",
   "nbconvert_exporter": "python",
   "pygments_lexer": "ipython3",
   "version": "3.7.12"
  }
 },
 "nbformat": 4,
 "nbformat_minor": 5
}
